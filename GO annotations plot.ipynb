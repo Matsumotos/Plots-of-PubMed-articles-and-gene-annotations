{
 "cells": [
  {
   "cell_type": "code",
   "execution_count": 2,
   "metadata": {
    "collapsed": false
   },
   "outputs": [],
   "source": [
    "%matplotlib inline\n",
    "import urllib\n",
    "import io\n",
    "import gzip\n",
    "import matplotlib.pyplot as plt\n",
    "import numpy as np"
   ]
  },
  {
   "cell_type": "code",
   "execution_count": 3,
   "metadata": {
    "collapsed": false
   },
   "outputs": [],
   "source": [
    "url = 'ftp://ftp.ncbi.nih.gov/gene/DATA/gene2go.gz'\n",
    "u = urllib.request.urlopen(url)\n",
    "compressed = io.BytesIO(u.read())\n",
    "file = gzip.GzipFile(fileobj = compressed)"
   ]
  },
  {
   "cell_type": "code",
   "execution_count": 5,
   "metadata": {
    "collapsed": false
   },
   "outputs": [
    {
     "ename": "TypeError",
     "evalue": "'str' does not support the buffer interface",
     "output_type": "error",
     "traceback": [
      "\u001b[1;31m---------------------------------------------------------------------------\u001b[0m",
      "\u001b[1;31mTypeError\u001b[0m                                 Traceback (most recent call last)",
      "\u001b[1;32m<ipython-input-5-bcf86d7d1171>\u001b[0m in \u001b[0;36m<module>\u001b[1;34m()\u001b[0m\n\u001b[0;32m      5\u001b[0m         \u001b[0mk\u001b[0m \u001b[1;33m=\u001b[0m \u001b[1;32mFalse\u001b[0m\u001b[1;33m\u001b[0m\u001b[0m\n\u001b[0;32m      6\u001b[0m     \u001b[1;32melse\u001b[0m\u001b[1;33m:\u001b[0m\u001b[1;33m\u001b[0m\u001b[0m\n\u001b[1;32m----> 7\u001b[1;33m         \u001b[0mdata\u001b[0m \u001b[1;33m=\u001b[0m \u001b[0mline\u001b[0m\u001b[1;33m.\u001b[0m\u001b[0mreplace\u001b[0m\u001b[1;33m(\u001b[0m\u001b[1;34m'\\n'\u001b[0m\u001b[1;33m,\u001b[0m\u001b[1;34m''\u001b[0m\u001b[1;33m)\u001b[0m\u001b[1;33m.\u001b[0m\u001b[0msplit\u001b[0m\u001b[1;33m(\u001b[0m\u001b[1;34m'\\t'\u001b[0m\u001b[1;33m)\u001b[0m\u001b[1;33m\u001b[0m\u001b[0m\n\u001b[0m\u001b[0;32m      8\u001b[0m         \u001b[0mprint\u001b[0m\u001b[1;33m(\u001b[0m\u001b[0mdata\u001b[0m\u001b[1;33m)\u001b[0m\u001b[1;33m\u001b[0m\u001b[0m\n\u001b[0;32m      9\u001b[0m         \u001b[1;32mif\u001b[0m \u001b[0mdata\u001b[0m\u001b[1;33m[\u001b[0m\u001b[1;36m0\u001b[0m\u001b[1;33m]\u001b[0m \u001b[1;33m==\u001b[0m \u001b[1;34m'9606'\u001b[0m \u001b[1;32mand\u001b[0m \u001b[0mdata\u001b[0m\u001b[1;33m[\u001b[0m\u001b[1;36m3\u001b[0m\u001b[1;33m]\u001b[0m \u001b[1;33m!=\u001b[0m \u001b[1;34m'IEA'\u001b[0m\u001b[1;33m:\u001b[0m\u001b[1;33m\u001b[0m\u001b[0m\n",
      "\u001b[1;31mTypeError\u001b[0m: 'str' does not support the buffer interface"
     ]
    }
   ],
   "source": [
    "counts={}\n",
    "k = True\n",
    "for line in file:\n",
    "    if k:\n",
    "        k = False\n",
    "    else:\n",
    "        data = line.replace(\"b'\", '').replace('\\n','').split('\\t')\n",
    "        print(data)\n",
    "        if data[0] == '9606' and data[3] != 'IEA':\n",
    "            if counts[data[1]]:\n",
    "                counts[data[1]]=counts[data[1]]+1\n",
    "            else:\n",
    "                counts[data[1]]=1\n",
    "print(counts)"
   ]
  },
  {
   "cell_type": "code",
   "execution_count": null,
   "metadata": {
    "collapsed": false
   },
   "outputs": [],
   "source": [
    "ann_count = []\n",
    "for c in htmldoc.find_all('td'):\n",
    "    ann_count.append(int(c.string))"
   ]
  },
  {
   "cell_type": "code",
   "execution_count": null,
   "metadata": {
    "collapsed": false
   },
   "outputs": [],
   "source": [
    "fig = plt.figure()\n",
    "plt.yscale('log')\n",
    "axes = fig.add_subplot(111)\n",
    "axes.plot(ann_count, marker = 'o', markersize = 10, markerfacecolor = 'green', markeredgecolor = 'none', alpha = 1.0, linestyle = 'none')\n",
    "axes.xaxis.set_ticks([])\n",
    "axes.set_xlim([-600, 44000])\n",
    "axes.set_ylabel('Number of annotations')\n",
    "axes.yaxis.set_ticks_position('left')\n",
    "axes.yaxis.grid(linestyle = '-')\n",
    "axes.set_title('Number of annotations per gene')\n",
    "plt.annotate('HLA\\nPTK2\\nTP53', xy = (1,3296), xytext = (4000,1500),\n",
    "             arrowprops = dict(arrowstyle = '-'))\n",
    "plt.annotate('PSEN1', xy = (7, 1000), xytext = (4000, 1100), arrowprops = dict(arrowstyle = '-'))\n",
    "plt.annotate('65%', xy = (15095,30), xytext = (29000, 150), \n",
    "             arrowprops = dict(arrowstyle = '-', connectionstyle = 'arc, angleA = -90, angleB = 90, armA = 20, armB = 20, rad = 15', \n",
    "                             edgecolor = 'red'), horizontalalignment = 'center')\n",
    "plt.annotate('', xy = (43131, 30), xytext = (29000, 130), \n",
    "             arrowprops = dict(arrowstyle = '-', connectionstyle = 'arc, angleA = -90, angleB = 90, armA = 10, armB = 20, rad = 15', \n",
    "                            edgecolor = 'red'), horizontalalignment = 'center')\n",
    "plt.show()"
   ]
  }
 ],
 "metadata": {
  "kernelspec": {
   "display_name": "Python 3",
   "language": "python",
   "name": "python3"
  },
  "language_info": {
   "codemirror_mode": {
    "name": "ipython",
    "version": 3
   },
   "file_extension": ".py",
   "mimetype": "text/x-python",
   "name": "python",
   "nbconvert_exporter": "python",
   "pygments_lexer": "ipython3",
   "version": "3.4.3"
  }
 },
 "nbformat": 4,
 "nbformat_minor": 0
}
