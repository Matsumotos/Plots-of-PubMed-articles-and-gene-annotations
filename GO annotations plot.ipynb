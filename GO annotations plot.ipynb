{
 "cells": [
  {
   "cell_type": "code",
   "execution_count": 79,
   "metadata": {
    "collapsed": false
   },
   "outputs": [],
   "source": [
    "%matplotlib inline\n",
    "import gzip\n",
    "import matplotlib.pyplot as plt\n",
    "import numpy as np"
   ]
  },
  {
   "cell_type": "code",
   "execution_count": 80,
   "metadata": {
    "collapsed": false
   },
   "outputs": [],
   "source": [
    "file = gzip.open('gene2go.gz', mode = 'rt')"
   ]
  },
  {
   "cell_type": "code",
   "execution_count": 81,
   "metadata": {
    "collapsed": false,
    "scrolled": true
   },
   "outputs": [],
   "source": [
    "counts={}\n",
    "k = True\n",
    "for line in file:\n",
    "    if k:\n",
    "        k = False\n",
    "    else:\n",
    "        data = line.split()\n",
    "        if data[0] == \"9606\" and data[3] != \"IEA\":\n",
    "            if data[1] in counts:\n",
    "                counts[data[1]] += 1\n",
    "            else:\n",
    "                counts[data[1]] = 1"
   ]
  },
  {
   "cell_type": "code",
   "execution_count": 82,
   "metadata": {
    "collapsed": false
   },
   "outputs": [],
   "source": [
    "ann_count = []\n",
    "for key in counts:\n",
    "    ann_count.append(counts[key])\n",
    "ann_count.sort(reverse = True)"
   ]
  },
  {
   "cell_type": "code",
   "execution_count": 84,
   "metadata": {
    "collapsed": false
   },
   "outputs": [
    {
     "data": {
      "image/png": "[encoded data removed]",
      "text/plain": [
       "<matplotlib.figure.Figure at 0x4aba930>"
      ]
     },
     "metadata": {},
     "output_type": "display_data"
    }
   ],
   "source": [
    "fig = plt.figure()\n",
    "plt.yscale('log')\n",
    "axes = fig.add_subplot(111)\n",
    "axes.plot(ann_count, marker = 'o', markersize = 10, markerfacecolor = 'green', markeredgecolor = 'none', alpha = 1.0, linestyle = 'none')\n",
    "axes.xaxis.set_ticks([])\n",
    "axes.set_xlim([-100, 16000])\n",
    "axes.set_ylabel('Number of annotations')\n",
    "axes.yaxis.set_ticks_position('left')\n",
    "axes.yaxis.grid(linestyle = '-')\n",
    "axes.set_title('Number of annotations per gene')\n",
    "plt.show()"
   ]
  }
 ],
 "metadata": {
  "kernelspec": {
   "display_name": "Python 3",
   "language": "python",
   "name": "python3"
  },
  "language_info": {
   "codemirror_mode": {
    "name": "ipython",
    "version": 3
   },
   "file_extension": ".py",
   "mimetype": "text/x-python",
   "name": "python",
   "nbconvert_exporter": "python",
   "pygments_lexer": "ipython3",
   "version": "3.4.3"
  }
 },
 "nbformat": 4,
 "nbformat_minor": 0
}
