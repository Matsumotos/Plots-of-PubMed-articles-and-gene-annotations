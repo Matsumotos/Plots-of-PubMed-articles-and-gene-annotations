{
 "cells": [
  {
   "cell_type": "code",
   "execution_count": 48,
   "metadata": {
    "collapsed": false
   },
   "outputs": [],
   "source": [
    "%matplotlib inline\n",
    "import urllib\n",
    "from xml.dom import minidom\n",
    "import matplotlib.pyplot as plt\n",
    "import numpy as np"
   ]
  },
  {
   "cell_type": "code",
   "execution_count": 49,
   "metadata": {
    "collapsed": true
   },
   "outputs": [],
   "source": [
    "def get_count(start, finish, step = 1):\n",
    "    while start <= finish:\n",
    "        url_str = 'http://eutils.ncbi.nlm.nih.gov/entrez/eutils/esearch.fcgi?db=pubmed&term=' + str(start) + '[pdat]'\n",
    "        xml_str = urllib.request.urlopen(url_str).read()\n",
    "        xmldoc = minidom.parseString(xml_str)\n",
    "        value = xmldoc.getElementsByTagName('Count')\n",
    "        count = value[0].firstChild.nodeValue\n",
    "        start = start+step\n",
    "        yield start - step, count"
   ]
  },
  {
   "cell_type": "code",
   "execution_count": 50,
   "metadata": {
    "collapsed": false
   },
   "outputs": [],
   "source": [
    "def graph(start, finish, step = 1):\n",
    "    p_date, articles = [], []\n",
    "    for date, count in get_count(start, finish, step):\n",
    "        p_date.append(date)\n",
    "        articles.append(int(count))\n",
    "    fig = plt.figure(figsize = (10.5, 8))\n",
    "    axes = fig.add_subplot(111)\n",
    "    axes.plot(p_date, articles, color = 'blue', linewidth = 3, marker = 'o', markerfacecolor = 'white', markeredgecolor = 'blue', \n",
    "              markeredgewidth = 3, markersize = 8, label = 'Number of new PubMed-indexed articles')\n",
    "    axes.set_xlim([start - 1, finish + 1])\n",
    "    axes.set_ylim([0, (max(articles) // 100000 + 1) * 100000])\n",
    "    axes.xaxis.set_ticks_position('bottom')\n",
    "    axes.yaxis.set_ticks_position('left')\n",
    "    axes.yaxis.grid(linestyle = '-')\n",
    "    axes.legend(bbox_to_anchor = (0, 1.02, 1, .102), loc = 'upper center', mode = 'expand')\n",
    "    plt.show()"
   ]
  },
  {
   "cell_type": "code",
   "execution_count": 51,
   "metadata": {
    "collapsed": false
   },
   "outputs": [
    {
     "data": {
      "image/png": "[encoded data removed]",
      "text/plain": [
       "<matplotlib.figure.Figure at 0x643b910>"
      ]
     },
     "metadata": {},
     "output_type": "display_data"
    }
   ],
   "source": [
    "graph(1983, 2014)"
   ]
  }
 ],
 "metadata": {
  "kernelspec": {
   "display_name": "Python 3",
   "language": "python",
   "name": "python3"
  },
  "language_info": {
   "codemirror_mode": {
    "name": "ipython",
    "version": 3
   },
   "file_extension": ".py",
   "mimetype": "text/x-python",
   "name": "python",
   "nbconvert_exporter": "python",
   "pygments_lexer": "ipython3",
   "version": "3.4.3"
  }
 },
 "nbformat": 4,
 "nbformat_minor": 0
}
